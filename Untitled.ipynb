{
 "cells": [
  {
   "cell_type": "code",
   "execution_count": 1,
   "metadata": {
    "collapsed": true
   },
   "outputs": [],
   "source": [
    "import desire.utils.data_loader as dl\n",
    "import numpy as np\n",
    "import matplotlib.pyplot as plt\n",
    "import tensorflow as tf\n",
    "import time\n",
    "\n",
    "# execfile(\"utils/data_loader.py\")"
   ]
  },
  {
   "cell_type": "code",
   "execution_count": 2,
   "metadata": {},
   "outputs": [
    {
     "name": "stdout",
     "output_type": "stream",
     "text": [
      "5\n",
      "509\n",
      "509\n",
      "509\n",
      "509\n",
      "14558\n"
     ]
    }
   ],
   "source": [
    "seq_length = 20\n",
    "batch_size = 1\n",
    "max_num_obj = 60\n",
    "\n",
    "data_loader = dl.DataLoader(max_num_obj, seq_length, max_num_obj, 5)"
   ]
  },
  {
   "cell_type": "code",
   "execution_count": 3,
   "metadata": {
    "collapsed": true,
    "scrolled": true
   },
   "outputs": [],
   "source": [
    "# data_loader.reset_batch_pointer()\n",
    "# print(np.asarray(xval).shape)\n",
    "# xval = np.asarray(xval)\n",
    "# yval = np.asarray(yval)\n",
    "# # vals = np.hstack([xval, yval])\n",
    "# print(xval.shape)\n",
    "# a = vals[:, :, 5, 1:]\n",
    "# # print(a.reshape(:, 16*2).shape)\n",
    "# print(\"-----\")\n",
    "# # print(np.asarray(vals[0, :, 1, :]).shape)\n",
    "# print(xval[0, :, 1, :])\n",
    "# a = np.asarray([[xval[y, :, i, 1:] for i in range(max_num_obj)] for y in range(batch_size)])\n",
    "# print(np.asarray(a).shape)\n",
    "# # a = a.reshape([batch_size*max_num_obj, seq_length*2])\n",
    "# print(a.shape)\n",
    "# # print(a[0, 1, :])\n",
    "# # a = a.reshape([1, 2*seq_length])\n",
    "# # print(a.shape)\n",
    "# # print(a.reshape([seq_length, 2]))\n",
    "# # print(yval[0, :, 2, 1:])\n",
    "\n",
    "# tar = xval - 1\n",
    "# print(np.mean(xval[0, :, 2, 1:] - tar[0, :, 2, 1:]))"
   ]
  },
  {
   "cell_type": "code",
   "execution_count": 5,
   "metadata": {
    "collapsed": true
   },
   "outputs": [],
   "source": [
    "# xval = np.asarray(xval)"
   ]
  },
  {
   "cell_type": "code",
   "execution_count": 10,
   "metadata": {},
   "outputs": [
    {
     "name": "stdout",
     "output_type": "stream",
     "text": [
      "[ 954.   954.   954.   956.5  956.5  959.   959.   959.   962.   962.   965.\n",
      "  965.   966.   967.5  967.5  970.   970.   973.   973.   973. ]\n"
     ]
    },
    {
     "data": {
      "image/png": "[encoded data removed]",
      "text/plain": [
       "<matplotlib.figure.Figure at 0x7ff30f92d9b0>"
      ]
     },
     "metadata": {},
     "output_type": "display_data"
    }
   ],
   "source": [
    "# plt.figure()\n",
    "# print(xval[0, :, 1, 1])\n",
    "# plt.plot(xval[0, :, 4, 2], xval[0, :, 4, 1])\n",
    "# plt.show()"
   ]
  },
  {
   "cell_type": "code",
   "execution_count": 4,
   "metadata": {
    "collapsed": true
   },
   "outputs": [],
   "source": [
    "def get_coef(output):\n",
    "    # eq 20 -> 22 of Graves (2013)\n",
    "\n",
    "    z = output\n",
    "    # Split the output into 5 parts corresponding to means, std devs and corr\n",
    "    z_mux, z_muy, z_sx, z_sy, z_corr = tf.split(z, 5, 1)\n",
    "\n",
    "    # The output must be exponentiated for the std devs\n",
    "    z_sx = tf.exp(z_sx)\n",
    "    z_sy = tf.exp(z_sy)\n",
    "    # Tanh applied to keep it in the range [-1, 1]\n",
    "    z_corr = tf.tanh(z_corr)\n",
    "\n",
    "    return [z_mux, z_muy, z_sx, z_sy, z_corr]\n",
    "\n",
    "def get_lossfunc(z_mux, z_muy, z_sx, z_sy, z_corr, x_data, y_data):\n",
    "    '''\n",
    "    Function to calculate given a 2D distribution over x and y, and target data\n",
    "    of observed x and y points\n",
    "    params:\n",
    "    z_mux : mean of the distribution in x\n",
    "    z_muy : mean of the distribution in y\n",
    "    z_sx : std dev of the distribution in x\n",
    "    z_sy : std dev of the distribution in y\n",
    "    z_rho : Correlation factor of the distribution\n",
    "    x_data : target x points\n",
    "    y_data : target y points\n",
    "    '''\n",
    "\n",
    "    # Calculate the PDF of the data w.r.t to the distribution\n",
    "    result0 = tf_2d_normal(x_data, y_data, z_mux, z_muy, z_sx, z_sy, z_corr)\n",
    "    # For numerical stability purposes\n",
    "    epsilon = 1e-20\n",
    "\n",
    "    # Apply the log operation\n",
    "    result1 = -tf.log(tf.maximum(result0, epsilon))  # Numerical stability\n",
    "\n",
    "    # Sum up all log probabilities for each data point\n",
    "    return tf.reduce_sum(result1)\n",
    "\n",
    "def tf_2d_normal(x, y, mux, muy, sx, sy, rho):\n",
    "    '''\n",
    "    Function that implements the PDF of a 2D normal distribution\n",
    "    params:\n",
    "    x : input x points\n",
    "    y : input y points\n",
    "    mux : mean of the distribution in x\n",
    "    muy : mean of the distribution in y\n",
    "    sx : std dev of the distribution in x\n",
    "    sy : std dev of the distribution in y\n",
    "    rho : Correlation factor of the distribution\n",
    "    '''\n",
    "    # eq 3 in the paper\n",
    "    # and eq 24 & 25 in Graves (2013)\n",
    "    # Calculate (x - mux) and (y-muy)\n",
    "    normx = tf.subtract(x, mux)\n",
    "    normy = tf.subtract(y, muy)\n",
    "    # Calculate sx*sy\n",
    "    sxsy = tf.multiply(sx, sy)\n",
    "    # Calculate the exponential factor\n",
    "    z = tf.square(tf.div(normx, sx)) + tf.square(tf.div(normy, sy)) - 2*tf.div(tf.multiply(rho, tf.multiply(normx, normy)), sxsy)\n",
    "    negRho = 1 - tf.square(rho)\n",
    "    # Numerator\n",
    "    result = tf.exp(tf.div(-z, 2*negRho))\n",
    "    # Normalization constant\n",
    "    denom = 2 * np.pi * tf.multiply(sxsy, tf.sqrt(negRho))\n",
    "    # Final PDF calculation\n",
    "    result = tf.div(result, denom)\n",
    "    return result"
   ]
  },
  {
   "cell_type": "code",
   "execution_count": 5,
   "metadata": {
    "collapsed": true
   },
   "outputs": [],
   "source": [
    "# Size of the encoding layer (the hidden layer)\n",
    "encoding_dim = 8 # feel free to change this value\n",
    "\n",
    "input_size = 3\n",
    "\n",
    "grad_clip = 10.0\n",
    "learning_rate = 0.005\n",
    "\n",
    "# Input and target placeholders\n",
    "inputs = tf.placeholder(tf.float32, (seq_length, max_num_obj, input_size), name=\"inputs\")\n",
    "\n",
    "nonexistent_ped = tf.constant(0.0, name=\"zero_ped\")\n",
    "# inputs = tf.reshape(inputs_, shape=[-1, input_size])\n",
    "targets = tf.placeholder(tf.float32, (seq_length, max_num_obj, input_size), name=\"targets\")\n",
    "# targets = tf.reshape(targets_, shape=[-1, input_size])\n",
    "lr = tf.Variable(learning_rate, trainable=False, name=\"learning_rate\")\n",
    "frame_target_data = [tf.squeeze(target_, [0]) for target_ in tf.split(targets, seq_length, 0)]\n",
    "\n",
    "cost = tf.constant(0.0, name=\"cost\")\n",
    "counter = tf.constant(0.0, name=\"counter\")\n",
    "increment = tf.constant(1.0, name=\"increment\")\n",
    "\n",
    "# frame_data = tf.split(0, args.seq_length, self.input_data, name=\"frame_data\")\n",
    "frame_data = [tf.squeeze(input_, [0]) for input_ in tf.split(inputs, seq_length, 0)]\n",
    "\n",
    "for seq, frame in enumerate(frame_data):\n",
    "# Output of hidden layer, single fully connected layer here with ReLU activation\n",
    "    current_frame = frame\n",
    "    for ped in range(max_num_obj):\n",
    "        pedID = current_frame[ped, 0]\n",
    "        spat_input = tf.slice(current_frame, [ped, 1], [1, 2])\n",
    "        encoded = tf.layers.dense(spat_input, 5, activation=tf.nn.relu)\n",
    "\n",
    "#         # Output layer logits, fully connected layer with no activation\n",
    "#         logits = tf.layers.dense(encoded, input_size, activation=None)\n",
    "#         # Sigmoid output from logits\n",
    "#         decoded = tf.sigmoid(logits, name = \"decoded\")\n",
    "        [x_data, y_data] = tf.split(tf.slice(frame_target_data[seq], [ped, 1], [1, 2]), 2, 1)\n",
    "        target_pedID = frame_target_data[seq][ped, 0]\n",
    "        [o_mux, o_muy, o_sx, o_sy, o_corr] = get_coef(encoded)\n",
    "        lossfunc = get_lossfunc(o_mux, o_muy, o_sx, o_sy, o_corr, x_data, y_data)\n",
    "        # If it is a non-existent ped, it should not contribute to cost\n",
    "        # If the ped doesn't exist in the next frame, he/she should not contribute to cost as well\n",
    "        cost = tf.where(tf.logical_or(tf.equal(pedID, nonexistent_ped), tf.equal(target_pedID, nonexistent_ped)), cost, tf.add(cost, lossfunc))\n",
    "        counter = tf.where(tf.logical_or(tf.equal(pedID, nonexistent_ped), tf.equal(target_pedID, nonexistent_ped)), counter, tf.add(counter, increment))\n",
    "\n",
    "cost = tf.div(cost, counter)\n",
    "\n",
    "tvars = tf.trainable_variables()\n",
    "gradients = tf.gradients(cost, tvars)\n",
    "\n",
    "grads, _ = tf.clip_by_global_norm(gradients, grad_clip)\n",
    "# Adam optimizer\n",
    "# Define the optimizer\n",
    "optimizer = tf.train.RMSPropOptimizer(lr)\n",
    "\n",
    "# The train operator\n",
    "train_op = optimizer.apply_gradients(zip(grads, tvars))"
   ]
  },
  {
   "cell_type": "code",
   "execution_count": 6,
   "metadata": {
    "collapsed": true
   },
   "outputs": [],
   "source": [
    "# Create the session\n",
    "sess = tf.Session()"
   ]
  },
  {
   "cell_type": "code",
   "execution_count": 7,
   "metadata": {
    "scrolled": true
   },
   "outputs": [
    {
     "name": "stdout",
     "output_type": "stream",
     "text": [
      "0/480 (epoch 0), train_loss = nan, time/batch = 18.196\n",
      "1/480 (epoch 0), train_loss = nan, time/batch = 1.471\n",
      "2/480 (epoch 0), train_loss = nan, time/batch = 1.565\n",
      "3/480 (epoch 0), train_loss = nan, time/batch = 1.509\n",
      "4/480 (epoch 0), train_loss = nan, time/batch = 1.411\n",
      "5/480 (epoch 0), train_loss = nan, time/batch = 1.413\n",
      "6/480 (epoch 0), train_loss = nan, time/batch = 1.403\n",
      "7/480 (epoch 0), train_loss = nan, time/batch = 1.429\n",
      "8/480 (epoch 0), train_loss = nan, time/batch = 1.439\n",
      "9/480 (epoch 0), train_loss = nan, time/batch = 1.477\n",
      "10/480 (epoch 0), train_loss = nan, time/batch = 1.466\n",
      "11/480 (epoch 0), train_loss = nan, time/batch = 1.487\n",
      "12/480 (epoch 0), train_loss = nan, time/batch = 1.515\n",
      "13/480 (epoch 0), train_loss = nan, time/batch = 1.497\n"
     ]
    },
    {
     "ename": "KeyboardInterrupt",
     "evalue": "",
     "output_type": "error",
     "traceback": [
      "\u001b[0;31m---------------------------------------------------------------------------\u001b[0m",
      "\u001b[0;31mKeyboardInterrupt\u001b[0m                         Traceback (most recent call last)",
      "\u001b[0;32m<ipython-input-7-94d56e54d175>\u001b[0m in \u001b[0;36m<module>\u001b[0;34m()\u001b[0m\n\u001b[1;32m     13\u001b[0m \u001b[0;31m#             print(xval.shape)\u001b[0m\u001b[0;34m\u001b[0m\u001b[0;34m\u001b[0m\u001b[0m\n\u001b[1;32m     14\u001b[0m             \u001b[0mfeed\u001b[0m \u001b[0;34m=\u001b[0m \u001b[0;34m{\u001b[0m\u001b[0minputs\u001b[0m\u001b[0;34m:\u001b[0m \u001b[0mxval\u001b[0m\u001b[0;34m,\u001b[0m \u001b[0mtargets\u001b[0m\u001b[0;34m:\u001b[0m \u001b[0mxval\u001b[0m\u001b[0;34m}\u001b[0m\u001b[0;34m\u001b[0m\u001b[0m\n\u001b[0;32m---> 15\u001b[0;31m             \u001b[0mtrain_loss\u001b[0m\u001b[0;34m,\u001b[0m \u001b[0m_\u001b[0m \u001b[0;34m=\u001b[0m \u001b[0msess\u001b[0m\u001b[0;34m.\u001b[0m\u001b[0mrun\u001b[0m\u001b[0;34m(\u001b[0m\u001b[0;34m[\u001b[0m\u001b[0mcost\u001b[0m\u001b[0;34m,\u001b[0m \u001b[0mtrain_op\u001b[0m\u001b[0;34m]\u001b[0m\u001b[0;34m,\u001b[0m \u001b[0mfeed\u001b[0m\u001b[0;34m)\u001b[0m\u001b[0;34m\u001b[0m\u001b[0m\n\u001b[0m\u001b[1;32m     16\u001b[0m \u001b[0;34m\u001b[0m\u001b[0m\n\u001b[1;32m     17\u001b[0m             \u001b[0mloss_batch\u001b[0m \u001b[0;34m+=\u001b[0m \u001b[0mtrain_loss\u001b[0m\u001b[0;34m\u001b[0m\u001b[0m\n",
      "\u001b[0;32m/home/todor/anaconda3/lib/python3.6/site-packages/tensorflow/python/client/session.py\u001b[0m in \u001b[0;36mrun\u001b[0;34m(self, fetches, feed_dict, options, run_metadata)\u001b[0m\n\u001b[1;32m    893\u001b[0m     \u001b[0;32mtry\u001b[0m\u001b[0;34m:\u001b[0m\u001b[0;34m\u001b[0m\u001b[0m\n\u001b[1;32m    894\u001b[0m       result = self._run(None, fetches, feed_dict, options_ptr,\n\u001b[0;32m--> 895\u001b[0;31m                          run_metadata_ptr)\n\u001b[0m\u001b[1;32m    896\u001b[0m       \u001b[0;32mif\u001b[0m \u001b[0mrun_metadata\u001b[0m\u001b[0;34m:\u001b[0m\u001b[0;34m\u001b[0m\u001b[0m\n\u001b[1;32m    897\u001b[0m         \u001b[0mproto_data\u001b[0m \u001b[0;34m=\u001b[0m \u001b[0mtf_session\u001b[0m\u001b[0;34m.\u001b[0m\u001b[0mTF_GetBuffer\u001b[0m\u001b[0;34m(\u001b[0m\u001b[0mrun_metadata_ptr\u001b[0m\u001b[0;34m)\u001b[0m\u001b[0;34m\u001b[0m\u001b[0m\n",
      "\u001b[0;32m/home/todor/anaconda3/lib/python3.6/site-packages/tensorflow/python/client/session.py\u001b[0m in \u001b[0;36m_run\u001b[0;34m(self, handle, fetches, feed_dict, options, run_metadata)\u001b[0m\n\u001b[1;32m   1122\u001b[0m     \u001b[0;32mif\u001b[0m \u001b[0mfinal_fetches\u001b[0m \u001b[0;32mor\u001b[0m \u001b[0mfinal_targets\u001b[0m \u001b[0;32mor\u001b[0m \u001b[0;34m(\u001b[0m\u001b[0mhandle\u001b[0m \u001b[0;32mand\u001b[0m \u001b[0mfeed_dict_tensor\u001b[0m\u001b[0;34m)\u001b[0m\u001b[0;34m:\u001b[0m\u001b[0;34m\u001b[0m\u001b[0m\n\u001b[1;32m   1123\u001b[0m       results = self._do_run(handle, final_targets, final_fetches,\n\u001b[0;32m-> 1124\u001b[0;31m                              feed_dict_tensor, options, run_metadata)\n\u001b[0m\u001b[1;32m   1125\u001b[0m     \u001b[0;32melse\u001b[0m\u001b[0;34m:\u001b[0m\u001b[0;34m\u001b[0m\u001b[0m\n\u001b[1;32m   1126\u001b[0m       \u001b[0mresults\u001b[0m \u001b[0;34m=\u001b[0m \u001b[0;34m[\u001b[0m\u001b[0;34m]\u001b[0m\u001b[0;34m\u001b[0m\u001b[0m\n",
      "\u001b[0;32m/home/todor/anaconda3/lib/python3.6/site-packages/tensorflow/python/client/session.py\u001b[0m in \u001b[0;36m_do_run\u001b[0;34m(self, handle, target_list, fetch_list, feed_dict, options, run_metadata)\u001b[0m\n\u001b[1;32m   1319\u001b[0m     \u001b[0;32mif\u001b[0m \u001b[0mhandle\u001b[0m \u001b[0;32mis\u001b[0m \u001b[0;32mNone\u001b[0m\u001b[0;34m:\u001b[0m\u001b[0;34m\u001b[0m\u001b[0m\n\u001b[1;32m   1320\u001b[0m       return self._do_call(_run_fn, self._session, feeds, fetches, targets,\n\u001b[0;32m-> 1321\u001b[0;31m                            options, run_metadata)\n\u001b[0m\u001b[1;32m   1322\u001b[0m     \u001b[0;32melse\u001b[0m\u001b[0;34m:\u001b[0m\u001b[0;34m\u001b[0m\u001b[0m\n\u001b[1;32m   1323\u001b[0m       \u001b[0;32mreturn\u001b[0m \u001b[0mself\u001b[0m\u001b[0;34m.\u001b[0m\u001b[0m_do_call\u001b[0m\u001b[0;34m(\u001b[0m\u001b[0m_prun_fn\u001b[0m\u001b[0;34m,\u001b[0m \u001b[0mself\u001b[0m\u001b[0;34m.\u001b[0m\u001b[0m_session\u001b[0m\u001b[0;34m,\u001b[0m \u001b[0mhandle\u001b[0m\u001b[0;34m,\u001b[0m \u001b[0mfeeds\u001b[0m\u001b[0;34m,\u001b[0m \u001b[0mfetches\u001b[0m\u001b[0;34m)\u001b[0m\u001b[0;34m\u001b[0m\u001b[0m\n",
      "\u001b[0;32m/home/todor/anaconda3/lib/python3.6/site-packages/tensorflow/python/client/session.py\u001b[0m in \u001b[0;36m_do_call\u001b[0;34m(self, fn, *args)\u001b[0m\n\u001b[1;32m   1325\u001b[0m   \u001b[0;32mdef\u001b[0m \u001b[0m_do_call\u001b[0m\u001b[0;34m(\u001b[0m\u001b[0mself\u001b[0m\u001b[0;34m,\u001b[0m \u001b[0mfn\u001b[0m\u001b[0;34m,\u001b[0m \u001b[0;34m*\u001b[0m\u001b[0margs\u001b[0m\u001b[0;34m)\u001b[0m\u001b[0;34m:\u001b[0m\u001b[0;34m\u001b[0m\u001b[0m\n\u001b[1;32m   1326\u001b[0m     \u001b[0;32mtry\u001b[0m\u001b[0;34m:\u001b[0m\u001b[0;34m\u001b[0m\u001b[0m\n\u001b[0;32m-> 1327\u001b[0;31m       \u001b[0;32mreturn\u001b[0m \u001b[0mfn\u001b[0m\u001b[0;34m(\u001b[0m\u001b[0;34m*\u001b[0m\u001b[0margs\u001b[0m\u001b[0;34m)\u001b[0m\u001b[0;34m\u001b[0m\u001b[0m\n\u001b[0m\u001b[1;32m   1328\u001b[0m     \u001b[0;32mexcept\u001b[0m \u001b[0merrors\u001b[0m\u001b[0;34m.\u001b[0m\u001b[0mOpError\u001b[0m \u001b[0;32mas\u001b[0m \u001b[0me\u001b[0m\u001b[0;34m:\u001b[0m\u001b[0;34m\u001b[0m\u001b[0m\n\u001b[1;32m   1329\u001b[0m       \u001b[0mmessage\u001b[0m \u001b[0;34m=\u001b[0m \u001b[0mcompat\u001b[0m\u001b[0;34m.\u001b[0m\u001b[0mas_text\u001b[0m\u001b[0;34m(\u001b[0m\u001b[0me\u001b[0m\u001b[0;34m.\u001b[0m\u001b[0mmessage\u001b[0m\u001b[0;34m)\u001b[0m\u001b[0;34m\u001b[0m\u001b[0m\n",
      "\u001b[0;32m/home/todor/anaconda3/lib/python3.6/site-packages/tensorflow/python/client/session.py\u001b[0m in \u001b[0;36m_run_fn\u001b[0;34m(session, feed_dict, fetch_list, target_list, options, run_metadata)\u001b[0m\n\u001b[1;32m   1304\u001b[0m           return tf_session.TF_Run(session, options,\n\u001b[1;32m   1305\u001b[0m                                    \u001b[0mfeed_dict\u001b[0m\u001b[0;34m,\u001b[0m \u001b[0mfetch_list\u001b[0m\u001b[0;34m,\u001b[0m \u001b[0mtarget_list\u001b[0m\u001b[0;34m,\u001b[0m\u001b[0;34m\u001b[0m\u001b[0m\n\u001b[0;32m-> 1306\u001b[0;31m                                    status, run_metadata)\n\u001b[0m\u001b[1;32m   1307\u001b[0m \u001b[0;34m\u001b[0m\u001b[0m\n\u001b[1;32m   1308\u001b[0m     \u001b[0;32mdef\u001b[0m \u001b[0m_prun_fn\u001b[0m\u001b[0;34m(\u001b[0m\u001b[0msession\u001b[0m\u001b[0;34m,\u001b[0m \u001b[0mhandle\u001b[0m\u001b[0;34m,\u001b[0m \u001b[0mfeed_dict\u001b[0m\u001b[0;34m,\u001b[0m \u001b[0mfetch_list\u001b[0m\u001b[0;34m)\u001b[0m\u001b[0;34m:\u001b[0m\u001b[0;34m\u001b[0m\u001b[0m\n",
      "\u001b[0;31mKeyboardInterrupt\u001b[0m: "
     ]
    }
   ],
   "source": [
    "epochs = 20\n",
    "batch_size = 10\n",
    "loss = 0\n",
    "sess.run(tf.global_variables_initializer())\n",
    "for e in range(epochs):\n",
    "    for ii in range(data_loader.num_batches):\n",
    "        start = time.time()\n",
    "        x, y, d = data_loader.next_batch()\n",
    "        loss_batch = 0\n",
    "        for batch in range(batch_size):\n",
    "            xval = x[batch]\n",
    "#             xval = np.swapaxes(xval, 0, 1)\n",
    "#             print(xval.shape)\n",
    "            feed = {inputs: xval, targets: xval}\n",
    "            train_loss, _ = sess.run([cost, train_op], feed)\n",
    "\n",
    "            loss_batch += train_loss\n",
    "        end = time.time()\n",
    "        loss_batch = loss_batch / batch_size\n",
    "        loss += loss_batch\n",
    "        print(\n",
    "            \"{}/{} (epoch {}), train_loss = {:.3f}, time/batch = {:.3f}\"\n",
    "            .format(\n",
    "                e * data_loader.num_batches + ii,\n",
    "                epochs * data_loader.num_batches,\n",
    "                e,\n",
    "                loss_batch, end - start))"
   ]
  },
  {
   "cell_type": "code",
   "execution_count": null,
   "metadata": {
    "collapsed": true
   },
   "outputs": [],
   "source": [
    "# Size of the encoding layer (the hidden layer)\n",
    "encoding_dim = 32 # feel free to change this value\n",
    "\n",
    "image_size = mnist.train.images.shape[1]\n",
    "\n",
    "# Input and target placeholders\n",
    "inputs_ = tf.placeholder(tf.float32, (None, image_size), name=\"inputs\")\n",
    "targets_ = tf.placeholder(tf.float32, (None, image_size), name=\"targets\")\n",
    "\n",
    "# Output of hidden layer, single fully connected layer here with ReLU activation\n",
    "encoded = tf.layers.dense(inputs_, 32, activation=tf.nn.relu)\n",
    "\n",
    "# Output layer logits, fully connected layer with no activation\n",
    "logits = tf.layers.dense(encoded, image_size, activation=None)\n",
    "# Sigmoid output from logits\n",
    "decoded = tf.sigmoid(logits, name = \"decoded\")\n",
    "\n",
    "# Sigmoid cross-entropy loss\n",
    "loss = tf.nn.sigmoid_cross_entropy_with_logits(logits=logits, labels=targets_)\n",
    "# Mean of the loss\n",
    "cost = tf.reduce_mean(loss)\n",
    "\n",
    "# Adam optimizer\n",
    "opt = tf.train.AdamOptimizer().minimize(cost)"
   ]
  },
  {
   "cell_type": "code",
   "execution_count": null,
   "metadata": {
    "collapsed": true
   },
   "outputs": [],
   "source": []
  }
 ],
 "metadata": {
  "kernelspec": {
   "display_name": "Python 3",
   "language": "python",
   "name": "python3"
  },
  "language_info": {
   "codemirror_mode": {
    "name": "ipython",
    "version": 3
   },
   "file_extension": ".py",
   "mimetype": "text/x-python",
   "name": "python",
   "nbconvert_exporter": "python",
   "pygments_lexer": "ipython3",
   "version": "3.6.2"
  }
 },
 "nbformat": 4,
 "nbformat_minor": 2
}
